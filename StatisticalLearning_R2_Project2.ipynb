{
 "cells": [
  {
   "cell_type": "markdown",
   "metadata": {},
   "source": [
    "# Statistical Learning - Project 2"
   ]
  },
  {
   "cell_type": "markdown",
   "metadata": {},
   "source": [
    "Please find below the Project for Statistical Learning course. This is an individual assignment. Kindly submit it before it's deadline.\n",
    "\n",
    "The Titan Insurance Company has just installed a new incentive payment scheme for its lift policy sales force. It wants to have an early view of the success or failure of the new scheme. Indications are that the sales force is selling more policies, but sales always vary in an unpredictable pattern from month to month and it is not clear that the scheme has made a significant difference.\n",
    "\n",
    "Life Insurance companies typically measure the monthly output of a salesperson as the total sum assured for the policies sold by that person during the month. For example, suppose salesperson X has, in the month, sold seven policies for which the sums assured are £1000, £2500, £3000, £5000, £10000, £35000. X's output for the month is the total of these sums assured, £61,500. Titan's new scheme is that the sales force receives low regular salaries but are paid large bonuses related to their output (i.e. to the total sum assured of policies sold by them). The scheme is expensive for the company, but they are looking for sales increases which more than compensate. The agreement with the sales force is that if the scheme does not at least break even for the company, it will be abandoned after six months.\n",
    "\n",
    "The scheme has now been in operation for four months. It has settled down after fluctuations in the first two months due to the changeover.\n",
    "\n",
    "To test the effectiveness of the scheme, Titan have taken a random sample of 30 salespeople measured their output in the penultimate month prior to changeover and then measured it in the fourth month after the changeover (they have deliberately chosen months not too close to the changeover). The outputs of the salespeople in the data.csv file.\n",
    "\n"
   ]
  },
  {
   "cell_type": "markdown",
   "metadata": {},
   "source": [
    "## Questions"
   ]
  },
  {
   "cell_type": "markdown",
   "metadata": {},
   "source": [
    "**1. Find the mean of old scheme and new scheme column. (5 points)**"
   ]
  },
  {
   "cell_type": "code",
   "execution_count": 1,
   "metadata": {},
   "outputs": [],
   "source": [
    "import pandas as pd\n",
    "import numpy as np\n",
    "from scipy.stats import t,ttest_1samp,ttest_rel, ttest_ind, mannwhitneyu, levene, shapiro\n",
    "from statsmodels.stats.power import ttest_power"
   ]
  },
  {
   "cell_type": "code",
   "execution_count": 2,
   "metadata": {
    "scrolled": true
   },
   "outputs": [
    {
     "data": {
      "text/html": [
       "<div>\n",
       "<style scoped>\n",
       "    .dataframe tbody tr th:only-of-type {\n",
       "        vertical-align: middle;\n",
       "    }\n",
       "\n",
       "    .dataframe tbody tr th {\n",
       "        vertical-align: top;\n",
       "    }\n",
       "\n",
       "    .dataframe thead th {\n",
       "        text-align: right;\n",
       "    }\n",
       "</style>\n",
       "<table border=\"1\" class=\"dataframe\">\n",
       "  <thead>\n",
       "    <tr style=\"text-align: right;\">\n",
       "      <th></th>\n",
       "      <th>SALESPERSON</th>\n",
       "      <th>Old Scheme (in thousands)</th>\n",
       "      <th>New Scheme (in thousands)</th>\n",
       "    </tr>\n",
       "  </thead>\n",
       "  <tbody>\n",
       "    <tr>\n",
       "      <th>0</th>\n",
       "      <td>1</td>\n",
       "      <td>57</td>\n",
       "      <td>62</td>\n",
       "    </tr>\n",
       "    <tr>\n",
       "      <th>1</th>\n",
       "      <td>2</td>\n",
       "      <td>103</td>\n",
       "      <td>122</td>\n",
       "    </tr>\n",
       "    <tr>\n",
       "      <th>2</th>\n",
       "      <td>3</td>\n",
       "      <td>59</td>\n",
       "      <td>54</td>\n",
       "    </tr>\n",
       "    <tr>\n",
       "      <th>3</th>\n",
       "      <td>4</td>\n",
       "      <td>75</td>\n",
       "      <td>82</td>\n",
       "    </tr>\n",
       "    <tr>\n",
       "      <th>4</th>\n",
       "      <td>5</td>\n",
       "      <td>84</td>\n",
       "      <td>84</td>\n",
       "    </tr>\n",
       "  </tbody>\n",
       "</table>\n",
       "</div>"
      ],
      "text/plain": [
       "   SALESPERSON  Old Scheme (in thousands)  New Scheme (in thousands)\n",
       "0            1                         57                         62\n",
       "1            2                        103                        122\n",
       "2            3                         59                         54\n",
       "3            4                         75                         82\n",
       "4            5                         84                         84"
      ]
     },
     "execution_count": 2,
     "metadata": {},
     "output_type": "execute_result"
    }
   ],
   "source": [
    "insuranceSalesData = pd.read_csv('data.csv')\n",
    "insuranceSalesData.head()"
   ]
  },
  {
   "cell_type": "code",
   "execution_count": 3,
   "metadata": {},
   "outputs": [
    {
     "data": {
      "text/plain": [
       "(30, 3)"
      ]
     },
     "execution_count": 3,
     "metadata": {},
     "output_type": "execute_result"
    }
   ],
   "source": [
    "insuranceSalesData.shape"
   ]
  },
  {
   "cell_type": "code",
   "execution_count": 4,
   "metadata": {},
   "outputs": [
    {
     "name": "stdout",
     "output_type": "stream",
     "text": [
      "Old Scheme Mean Value : 68033.33333333333\n",
      "New Scheme Mean Value : 72033.33333333333\n"
     ]
    }
   ],
   "source": [
    "#Since given data for Old Scheme & New Scheme in thousands its better to convert that with multiple by 1000\n",
    "insuranceSalesData[\"OldScheme\"]=insuranceSalesData[\"Old Scheme (in thousands)\"]*1000\n",
    "insuranceSalesData[\"NewScheme\"]=insuranceSalesData[\"New Scheme (in thousands)\"]*1000\n",
    "#NOTE : mean value calculated from the newly converted field\n",
    "print( \"Old Scheme Mean Value : {0}\".format(insuranceSalesData[\"OldScheme\"].mean()))\n",
    "print( \"New Scheme Mean Value : {0}\".format(insuranceSalesData[\"NewScheme\"].mean()))"
   ]
  },
  {
   "cell_type": "markdown",
   "metadata": {},
   "source": [
    "**2. Use the five percent significance test over the data to determine the p value to check new scheme has significantly raised outputs? (10 points)**"
   ]
  },
  {
   "cell_type": "code",
   "execution_count": 5,
   "metadata": {},
   "outputs": [
    {
     "name": "stdout",
     "output_type": "stream",
     "text": [
      "p-Value = 0.06528776980668831\n"
     ]
    }
   ],
   "source": [
    "# Let  μ2 = Mean value of New Scheme.\n",
    "# μ1 = Mean value of Old Scheme.\n",
    "\n",
    "#H0: μ1 = μ2  ; μ2 – μ1  = 0\n",
    "\n",
    "#HA: μ1 < μ2   ; μ2 – μ1  > 0 ; true difference of means is greater than zero.\n",
    "\n",
    "#Since population standard deviation is unknown, paired sample t-test will be used.\n",
    "#It is asked that whether the new scheme has significantly raised the output, it is an example of the one-tailed t-test.\n",
    "# here, ttest_rel is two-tailed t- test,so in the final p-value we should divide by 2 to get one-tailed p-value\n",
    "\n",
    "t_statistic, p_value = ttest_rel(insuranceSalesData[\"NewScheme\"], insuranceSalesData[\"OldScheme\"])\n",
    "print (\"p-Value = {0}\".format( p_value/2))\n"
   ]
  },
  {
   "cell_type": "markdown",
   "metadata": {},
   "source": [
    "**3. What conclusion does the test (p-value) lead to? (2.5 points)**"
   ]
  },
  {
   "cell_type": "code",
   "execution_count": 6,
   "metadata": {},
   "outputs": [
    {
     "name": "stdout",
     "output_type": "stream",
     "text": [
      "Since p-value = 0.06528776980668831 is higher than 0.05, we accept (fail to reject) NULL hypothesis.\n",
      "The New scheme has NOT significantly raised outputs.\n"
     ]
    }
   ],
   "source": [
    "#Null Hypothesis : New scheme has NOT significantly raised outputs\n",
    "\n",
    "#Alternate Hypothesis : New scheme has significantly raised outputs\n",
    "\n",
    "# p_value < 0.05 => alternative hypothesis:\n",
    "# they don't have the same mean at the 5% significance level\n",
    "\n",
    "print (\"Since p-value = {0} is higher than 0.05, we accept (fail to reject) NULL hypothesis.\".format( p_value/2))\n",
    "print (\"The New scheme has NOT significantly raised outputs.\")"
   ]
  },
  {
   "cell_type": "markdown",
   "metadata": {},
   "source": [
    "**4. Suppose it has been calculated that in order for Titan to break even, the average output must increase by £5000 in the scheme compared to the old scheme. If this figure is alternative hypothesis, what is:**"
   ]
  },
  {
   "cell_type": "markdown",
   "metadata": {},
   "source": [
    " **a) The probability of a type 1 error? (2.5 points)**"
   ]
  },
  {
   "cell_type": "markdown",
   "metadata": {},
   "source": [
    "<b>Ans :</b><br>\n",
    "*When the null hypothesis is true and you reject it.*<br>\n",
    "Albha = props(Type I Error)=significant level = 0.05 or 5%</br>"
   ]
  },
  {
   "cell_type": "markdown",
   "metadata": {},
   "source": [
    "**b) What is the p- value of the hypothesis test if we test for a difference of $5000? (5 points)**"
   ]
  },
  {
   "cell_type": "code",
   "execution_count": 7,
   "metadata": {},
   "outputs": [
    {
     "name": "stdout",
     "output_type": "stream",
     "text": [
      "one tail p-Value  = 0.3500667456306643\n"
     ]
    }
   ],
   "source": [
    "# Let  μ2 = Mean value of New Scheme.\n",
    "# μ1 = Mean value of Old Scheme.\n",
    "# μd = μ2 – μ1   \n",
    "\n",
    "# H0: μd ≤ 5000  \n",
    "# HA: μd > 5000\n",
    "\n",
    "#This is a one (right) tail test \n",
    "\n",
    "# here, ttest_1samp is two-tailed t- test,so in the final p-value we should divide by 2 to get one-tailed p-value\n",
    "\n",
    "t_statistic, p_value = ttest_1samp(insuranceSalesData[\"NewScheme\"]-insuranceSalesData[\"OldScheme\"], 5000)\n",
    "\n",
    "print(\"one tail p-Value  = {0}\".format(p_value/2))"
   ]
  },
  {
   "cell_type": "markdown",
   "metadata": {},
   "source": [
    "**c) Power of the test (5 points)**"
   ]
  },
  {
   "cell_type": "code",
   "execution_count": 8,
   "metadata": {},
   "outputs": [
    {
     "name": "stdout",
     "output_type": "stream",
     "text": [
      "Standard Error :2570.8355455569017 \n",
      "Degree of Fredom :29 \n",
      "Critical Value :1.6991270265334972 \n",
      "x_bar : 4368.176156228719\n",
      "t_Stat Value : -0.2457659514095497\n",
      "beta Value : 0.5962027475205683\n",
      "Power of Test Value: 0.40379725247943166\n"
     ]
    }
   ],
   "source": [
    "# Calculating Power of Test\n",
    "\n",
    "newScheme=insuranceSalesData[\"NewScheme\"]\n",
    "oldScheme=insuranceSalesData[\"OldScheme\"]\n",
    "insuranceSalesData[\"Salesdiff\"]=newScheme-oldScheme\n",
    "n=insuranceSalesData.shape[0]\n",
    "alpha=0.05\n",
    "#Standard Error\n",
    "se=((np.std(insuranceSalesData[\"Salesdiff\"],ddof=1))/np.sqrt(n))\n",
    "print(\"Standard Error :{0} \".format(se))\n",
    "#Standard Error\n",
    "df=n-1\n",
    "print(\"Degree of Fredom :{0} \".format(df))\n",
    "#Critical Value\n",
    "cv = t.ppf(1.0 - alpha, df)\n",
    "print(\"Critical Value :{0} \".format(cv))\n",
    "mu0=0\n",
    "#X_bar\n",
    "x_bar=mu0+cv*se\n",
    "print(\"x_bar : {0}\".format(x_bar))\n",
    "\n",
    "#Probability (type II error) is P(Do not reject H0 | H0 is false)\n",
    "#Our NULL hypothesis is TRUE at μd = 0 so that  H0: μd = 0 ; HA: μd > 0\n",
    "#Probability of type II error at μd = 5000\n",
    "    \n",
    "t_stat=(x_bar-5000)/se\n",
    "print(\"t_Stat Value : {0}\".format(t_stat))\n",
    "#Calculate Beta pvalue\n",
    "beta_pvalue = t.sf(t_stat, n-1)*2  # two-sided pvalue = Prob(abs(t)>tt)\n",
    "print(\"beta Value : {0}\".format(beta_pvalue/2))\n",
    "powerOfTest=1-(beta_pvalue/2) \n",
    "\n",
    "print(\"Power of Test Value: {0}\".format(powerOfTest))\n",
    "\n"
   ]
  }
 ],
 "metadata": {
  "kernelspec": {
   "display_name": "Python 3",
   "language": "python",
   "name": "python3"
  },
  "language_info": {
   "codemirror_mode": {
    "name": "ipython",
    "version": 3
   },
   "file_extension": ".py",
   "mimetype": "text/x-python",
   "name": "python",
   "nbconvert_exporter": "python",
   "pygments_lexer": "ipython3",
   "version": "3.7.1"
  }
 },
 "nbformat": 4,
 "nbformat_minor": 2
}
